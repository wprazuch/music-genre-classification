{
 "cells": [
  {
   "cell_type": "code",
   "execution_count": 13,
   "metadata": {},
   "outputs": [],
   "source": [
    "from tensorflow.keras import applications\n",
    "import importlib\n",
    "\n",
    "from tensorflow.keras.preprocessing import image\n",
    "import numpy as np\n",
    "from tensorflow.keras import layers, Model"
   ]
  },
  {
   "cell_type": "code",
   "execution_count": 14,
   "metadata": {},
   "outputs": [],
   "source": [
    "def ResNet50V2(num_classes: int, image_size=(256, 256)):\n",
    "\n",
    "    base_model = applications.ResNet50V2(\n",
    "        weights=None, include_top=False, input_shape=(*image_size, 3))\n",
    "    x = base_model.output\n",
    "    x = layers.GlobalAveragePooling2D()(x)\n",
    "    x = layers.Dense(512, activation='relu')(x)\n",
    "    x = layers.Dropout(0.5)(x)\n",
    "    predictions = layers.Dense(num_classes, activation='softmax')(x)\n",
    "\n",
    "    model = Model(inputs=base_model.input, outputs=predictions)\n",
    "\n",
    "    return model"
   ]
  },
  {
   "cell_type": "code",
   "execution_count": 3,
   "metadata": {},
   "outputs": [
    {
     "data": {
      "text/plain": [
       "<module 'ml_music.utils' from 'C:\\\\Users\\\\Wojtek\\\\Documents\\\\Projects\\\\music-genre-classification\\\\ml_music\\\\utils.py'>"
      ]
     },
     "execution_count": 3,
     "metadata": {},
     "output_type": "execute_result"
    }
   ],
   "source": [
    "from ml_music import utils\n",
    "importlib.reload(utils)"
   ]
  },
  {
   "cell_type": "code",
   "execution_count": 4,
   "metadata": {},
   "outputs": [
    {
     "name": "stderr",
     "output_type": "stream",
     "text": [
      "100%|██████████████████████████████████████████████████████████████████████████████████| 10/10 [00:04<00:00,  2.22it/s]\n"
     ]
    }
   ],
   "source": [
    "data, labels = utils.load_img_by_classes(r'datasets/gtzan/images_original', image_size=(256, 256))"
   ]
  },
  {
   "cell_type": "code",
   "execution_count": 5,
   "metadata": {},
   "outputs": [],
   "source": [
    "data, labels = utils.preprocess_loaded_data(data, labels)"
   ]
  },
  {
   "cell_type": "code",
   "execution_count": 15,
   "metadata": {},
   "outputs": [],
   "source": [
    "model = ResNet50V2(10)"
   ]
  },
  {
   "cell_type": "code",
   "execution_count": 17,
   "metadata": {},
   "outputs": [],
   "source": [
    "model.compile(optimizer='Adam', loss='categorical_crossentropy', metrics=['accuracy'])"
   ]
  },
  {
   "cell_type": "code",
   "execution_count": 21,
   "metadata": {},
   "outputs": [
    {
     "name": "stdout",
     "output_type": "stream",
     "text": [
      "Epoch 1/15\n",
      "63/63 [==============================] - 15s 241ms/step - loss: 1.1872 - accuracy: 0.6106\n",
      "Epoch 2/15\n",
      "63/63 [==============================] - 15s 238ms/step - loss: 1.1206 - accuracy: 0.6086\n",
      "Epoch 3/15\n",
      "63/63 [==============================] - 15s 238ms/step - loss: 1.1029 - accuracy: 0.6326\n",
      "Epoch 4/15\n",
      "63/63 [==============================] - 15s 238ms/step - loss: 1.0923 - accuracy: 0.6286\n",
      "Epoch 5/15\n",
      "63/63 [==============================] - 15s 239ms/step - loss: 1.0510 - accuracy: 0.6416\n",
      "Epoch 6/15\n",
      "63/63 [==============================] - 16s 247ms/step - loss: 1.0296 - accuracy: 0.6567\n",
      "Epoch 7/15\n",
      "63/63 [==============================] - 16s 248ms/step - loss: 0.9971 - accuracy: 0.6747\n",
      "Epoch 8/15\n",
      "63/63 [==============================] - 16s 250ms/step - loss: 0.9964 - accuracy: 0.6567\n",
      "Epoch 9/15\n",
      "63/63 [==============================] - 15s 246ms/step - loss: 0.9906 - accuracy: 0.6797\n",
      "Epoch 10/15\n",
      "63/63 [==============================] - 15s 239ms/step - loss: 1.0121 - accuracy: 0.6797\n",
      "Epoch 11/15\n",
      "63/63 [==============================] - 15s 245ms/step - loss: 0.9299 - accuracy: 0.7017\n",
      "Epoch 12/15\n",
      "63/63 [==============================] - 16s 252ms/step - loss: 0.8763 - accuracy: 0.7097\n",
      "Epoch 13/15\n",
      "63/63 [==============================] - 16s 248ms/step - loss: 0.9011 - accuracy: 0.7017\n",
      "Epoch 14/15\n",
      "63/63 [==============================] - 16s 250ms/step - loss: 0.8237 - accuracy: 0.7277\n",
      "Epoch 15/15\n",
      "63/63 [==============================] - 16s 253ms/step - loss: 0.8062 - accuracy: 0.7357\n"
     ]
    }
   ],
   "source": [
    "history = model.fit(data, labels, epochs=15, batch_size=16)"
   ]
  },
  {
   "cell_type": "code",
   "execution_count": null,
   "metadata": {},
   "outputs": [],
   "source": []
  },
  {
   "cell_type": "code",
   "execution_count": null,
   "metadata": {},
   "outputs": [],
   "source": []
  },
  {
   "cell_type": "code",
   "execution_count": null,
   "metadata": {},
   "outputs": [],
   "source": []
  },
  {
   "cell_type": "code",
   "execution_count": null,
   "metadata": {},
   "outputs": [],
   "source": []
  }
 ],
 "metadata": {
  "kernelspec": {
   "display_name": "Python 3",
   "language": "python",
   "name": "python3"
  },
  "language_info": {
   "codemirror_mode": {
    "name": "ipython",
    "version": 3
   },
   "file_extension": ".py",
   "mimetype": "text/x-python",
   "name": "python",
   "nbconvert_exporter": "python",
   "pygments_lexer": "ipython3",
   "version": "3.6.10"
  }
 },
 "nbformat": 4,
 "nbformat_minor": 4
}
